{
 "cells": [
  {
   "cell_type": "markdown",
   "metadata": {},
   "source": [
    "# Prefix Sums"
   ]
  },
  {
   "cell_type": "markdown",
   "metadata": {},
   "source": [
    "Given an array of values, design a data structure that can query the sum of a subarry of the values.\n"
   ]
  },
  {
   "cell_type": "code",
   "execution_count": 14,
   "metadata": {},
   "outputs": [],
   "source": [
    "class Solution():\n",
    "    def __init__(self, nums):\n",
    "        rolling = 0\n",
    "        self.prefix_sums = []\n",
    "        for i in range(len(nums)):\n",
    "            rolling += nums[i]\n",
    "            self.prefix_sums.append(rolling)\n",
    "\n",
    "    def query_sum(self, l, r):\n",
    "        return self.prefix_sums[r] - (self.prefix_sums[l-1] if l > 0 else 0)"
   ]
  },
  {
   "cell_type": "code",
   "execution_count": 15,
   "metadata": {},
   "outputs": [],
   "source": [
    "sol = Solution([2, -1, 3, -3, 4])"
   ]
  },
  {
   "cell_type": "code",
   "execution_count": 16,
   "metadata": {},
   "outputs": [
    {
     "data": {
      "text/plain": [
       "4"
      ]
     },
     "execution_count": 16,
     "metadata": {},
     "output_type": "execute_result"
    }
   ],
   "source": [
    "sol.query_sum(2, 4)"
   ]
  },
  {
   "cell_type": "markdown",
   "metadata": {},
   "source": [
    "## Prefix Sum 2d"
   ]
  },
  {
   "cell_type": "markdown",
   "metadata": {},
   "source": [
    "Given a 2D matrix matrix, handle multiple queries of the following type:\n",
    "\n",
    "Calculate the sum of the elements of matrix inside the rectangle defined by its upper left corner (row1, col1) and lower right corner (row2, col2).\n",
    "Implement the NumMatrix class:\n",
    "\n",
    "NumMatrix(int[][] matrix) Initializes the object with the integer matrix matrix.\n",
    "int sumRegion(int row1, int col1, int row2, int col2) Returns the sum of the elements of matrix inside the rectangle defined by its upper left corner (row1, col1) and lower right corner (row2, col2).\n",
    "You must design an algorithm where sumRegion works on O(1) time complexity.\n",
    "\n",
    "https://leetcode.com/problems/range-sum-query-2d-immutable/"
   ]
  },
  {
   "cell_type": "markdown",
   "metadata": {},
   "source": [
    "Example\n",
    "\n",
    "Input\n",
    "\n",
    "`[\"NumMatrix\", \"sumRegion\", \"sumRegion\", \"sumRegion\"]`\n",
    "\n",
    "`[[[[3, 0, 1, 4, 2], [5, 6, 3, 2, 1], [1, 2, 0, 1, 5], [4, 1, 0, 1, 7], [1, 0, 3, 0, 5]]], [2, 1, 4, 3], [1, 1, 2, 2], [1, 2, 2, 4]]`\n",
    "\n",
    "Output\n",
    "\n",
    "`[null, 8, 11, 12]`"
   ]
  },
  {
   "cell_type": "code",
   "execution_count": 66,
   "metadata": {},
   "outputs": [],
   "source": [
    "from typing import List\n",
    "class NumMatrix:\n",
    "\n",
    "    def __init__(self, matrix: List[List[int]]):\n",
    "        self.matrix = matrix\n",
    "        self.rows = len(matrix)\n",
    "        self.cols = len(matrix[0])\n",
    "        self.prefix_matrix = [[0 for _ in range(self.cols + 1)] for _ in range(self.rows + 1)]\n",
    "        for i in range(1, self.rows+1):\n",
    "            for j in range(1, self.cols+1):\n",
    "                self.prefix_matrix[i][j] = self.matrix[i-1][j-1] + self.prefix_matrix[i-1][j] + self.prefix_matrix[i][j-1] - self.prefix_matrix[i-1][j-1]\n",
    "        print(self.prefix_matrix)\n",
    "\n",
    "    def sumRegion(self, row1: int, col1: int, row2: int, col2: int) -> int:\n",
    "        row1 += 1\n",
    "        col1 += 1\n",
    "        row2 += 1\n",
    "        col2 += 1\n",
    "        return self.prefix_matrix[row2][col2] - self.prefix_matrix[row1-1][col2] - self.prefix_matrix[row2][col1-1] + self.prefix_matrix[row1-1][col1-1]"
   ]
  },
  {
   "cell_type": "code",
   "execution_count": 67,
   "metadata": {},
   "outputs": [
    {
     "name": "stdout",
     "output_type": "stream",
     "text": [
      "[[0, 0, 0, 0, 0, 0], [0, 3, 3, 4, 8, 10], [0, 8, 14, 18, 24, 27], [0, 9, 17, 21, 28, 36], [0, 13, 22, 26, 34, 49], [0, 14, 23, 30, 38, 58]]\n"
     ]
    }
   ],
   "source": [
    "sol = NumMatrix([[3, 0, 1, 4, 2], [5, 6, 3, 2, 1], [1, 2, 0, 1, 5], [4, 1, 0, 1, 7], [1, 0, 3, 0, 5]])"
   ]
  },
  {
   "cell_type": "code",
   "execution_count": 68,
   "metadata": {},
   "outputs": [
    {
     "data": {
      "text/plain": [
       "8"
      ]
     },
     "execution_count": 68,
     "metadata": {},
     "output_type": "execute_result"
    }
   ],
   "source": [
    "sol.sumRegion(2,1,4,3)"
   ]
  },
  {
   "cell_type": "code",
   "execution_count": null,
   "metadata": {},
   "outputs": [],
   "source": []
  }
 ],
 "metadata": {
  "kernelspec": {
   "display_name": "Python 3",
   "language": "python",
   "name": "python3"
  },
  "language_info": {
   "codemirror_mode": {
    "name": "ipython",
    "version": 3
   },
   "file_extension": ".py",
   "mimetype": "text/x-python",
   "name": "python",
   "nbconvert_exporter": "python",
   "pygments_lexer": "ipython3",
   "version": "3.11.5"
  }
 },
 "nbformat": 4,
 "nbformat_minor": 2
}
