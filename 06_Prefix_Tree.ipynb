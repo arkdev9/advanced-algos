{
 "cells": [
  {
   "cell_type": "markdown",
   "metadata": {},
   "source": [
    "# Trie (Prefix Tree)"
   ]
  },
  {
   "cell_type": "markdown",
   "metadata": {},
   "source": [
    "Implementation of a Trie"
   ]
  },
  {
   "cell_type": "code",
   "execution_count": null,
   "metadata": {},
   "outputs": [],
   "source": [
    "class TrieNode:\n",
    "    def __init__(self):\n",
    "        self.children = {}\n",
    "        self.is_word = False\n",
    "    \n",
    "class Trie:\n",
    "    def __init__(self):\n",
    "        self.root = TrieNode()\n",
    "    \n",
    "    def insert(self, word):\n",
    "        curr = self.root\n",
    "        for c in word:\n",
    "            if c not in curr.children:\n",
    "                curr.children[c] = TrieNode()\n",
    "            curr = curr.children[c]\n",
    "        \n",
    "        curr.word = True\n",
    "    \n",
    "    def search(self, word):\n",
    "        curr = self.root\n",
    "        for c in word:\n",
    "            if c not in curr.children:\n",
    "                return False\n",
    "            curr = curr.children[c]\n",
    "            \n",
    "        return curr.is_word\n",
    "    \n",
    "    def startsWith(self, word):\n",
    "        curr = self.root\n",
    "        for c in word:\n",
    "            if c not in curr.children:\n",
    "                return False\n",
    "            curr = curr.children[c]\n",
    "            \n",
    "        return True"
   ]
  },
  {
   "cell_type": "markdown",
   "metadata": {},
   "source": [
    "[Word Search 2](https://neetcode.io/problems/search-for-word-ii)\n",
    "\n",
    "Given a 2-D grid of characters board and a list of strings words, return all words that are present in the grid.\n",
    "\n",
    "For a word to be present it must be possible to form the word with a path in the board with horizontally or vertically neighboring cells. The same cell may not be used more than once in a word.\n",
    "\n",
    "**Example 1**\n",
    "```text\n",
    "Input:\n",
    "board = [\n",
    "  [\"a\",\"b\",\"c\",\"d\"],\n",
    "  [\"s\",\"a\",\"a\",\"t\"],\n",
    "  [\"a\",\"c\",\"k\",\"e\"],\n",
    "  [\"a\",\"c\",\"d\",\"n\"]\n",
    "],\n",
    "words = [\"bat\",\"cat\",\"back\",\"backend\",\"stack\"]\n",
    "\n",
    "Output: [\"cat\",\"back\",\"backend\"]\n",
    "```\n",
    "\n",
    "**Example 2**\n",
    "```text\n",
    "Input:\n",
    "board = [\n",
    "  [\"x\",\"o\"],\n",
    "  [\"x\",\"o\"]\n",
    "],\n",
    "words = [\"xoxo\"]\n",
    "\n",
    "Output: []\n",
    "```"
   ]
  },
  {
   "cell_type": "code",
   "execution_count": null,
   "metadata": {},
   "outputs": [],
   "source": []
  }
 ],
 "metadata": {
  "kernelspec": {
   "display_name": "Python 3",
   "language": "python",
   "name": "python3"
  },
  "language_info": {
   "codemirror_mode": {
    "name": "ipython",
    "version": 3
   },
   "file_extension": ".py",
   "mimetype": "text/x-python",
   "name": "python",
   "nbconvert_exporter": "python",
   "pygments_lexer": "ipython3",
   "version": "3.11.5"
  }
 },
 "nbformat": 4,
 "nbformat_minor": 2
}
