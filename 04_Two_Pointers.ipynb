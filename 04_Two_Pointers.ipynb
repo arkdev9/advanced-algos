{
 "cells": [
  {
   "cell_type": "markdown",
   "metadata": {},
   "source": [
    "# Two Pointers"
   ]
  },
  {
   "cell_type": "markdown",
   "metadata": {},
   "source": [
    "Given a sorted array, return two indices of two elements which sum to the target value. Assume there's exactly one solution."
   ]
  },
  {
   "cell_type": "code",
   "execution_count": 2,
   "metadata": {},
   "outputs": [],
   "source": [
    "def solution(nums, target):\n",
    "    l, r = 0, len(nums) - 1\n",
    "    while l != r:\n",
    "        if nums[l] + nums[r] == target:\n",
    "            return [l, r]\n",
    "        if nums[l] + nums[r] < target:\n",
    "            l += 1\n",
    "        else:\n",
    "            r -= 1\n",
    "    \n",
    "    return [-1, -1]\n"
   ]
  },
  {
   "cell_type": "code",
   "execution_count": 3,
   "metadata": {},
   "outputs": [],
   "source": [
    "assert solution([1, 2, 3, 4, 5], 9) == [3, 4]"
   ]
  }
 ],
 "metadata": {
  "kernelspec": {
   "display_name": "Python 3",
   "language": "python",
   "name": "python3"
  },
  "language_info": {
   "codemirror_mode": {
    "name": "ipython",
    "version": 3
   },
   "file_extension": ".py",
   "mimetype": "text/x-python",
   "name": "python",
   "nbconvert_exporter": "python",
   "pygments_lexer": "ipython3",
   "version": "3.11.5"
  }
 },
 "nbformat": 4,
 "nbformat_minor": 2
}
