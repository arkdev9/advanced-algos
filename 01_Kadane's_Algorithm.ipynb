{
 "cells": [
  {
   "cell_type": "markdown",
   "metadata": {
    "colab_type": "text",
    "id": "view-in-github"
   },
   "source": [
    "<a href=\"https://colab.research.google.com/github/arkdev9/advanced-algos/blob/main/01_Kadane's_Algorithm.ipynb\" target=\"_parent\"><img src=\"https://colab.research.google.com/assets/colab-badge.svg\" alt=\"Open In Colab\"/></a>"
   ]
  },
  {
   "cell_type": "markdown",
   "metadata": {
    "id": "xJkEZuSnTc0R"
   },
   "source": [
    "# Kadane's Algorithm"
   ]
  },
  {
   "cell_type": "markdown",
   "metadata": {
    "id": "j9BX84ckTwzE"
   },
   "source": [
    "**Question**\n",
    "\n",
    "Find a non-empty subarray with the largest sum"
   ]
  },
  {
   "cell_type": "code",
   "execution_count": 10,
   "metadata": {
    "id": "zyaLn_BNT9sj"
   },
   "outputs": [],
   "source": [
    "input = [4, -1, 2, -7, 3, 4]\n",
    "expected_output = 7"
   ]
  },
  {
   "cell_type": "markdown",
   "metadata": {
    "id": "IblTYEvseudW"
   },
   "source": [
    "**Intuition**\n",
    "\n",
    "Use a sliding window to calculate sums of subarrays. You will never have to add a subarray with a negative sum, because it will never contribute to increasing the sum."
   ]
  },
  {
   "cell_type": "code",
   "execution_count": 4,
   "metadata": {
    "id": "j9A3I7GZg5rF"
   },
   "outputs": [],
   "source": [
    "def kadane(nums):\n",
    "    max_sum = nums[0]\n",
    "    curr_sum = 0\n",
    "\n",
    "    for n in nums:\n",
    "        # Here we disregard the current window if it has a negative sum\n",
    "        curr_sum = max(curr_sum, 0)\n",
    "        curr_sum += n\n",
    "        max_sum = max(curr_sum, max_sum)\n",
    "\n",
    "    return max_sum\n"
   ]
  },
  {
   "cell_type": "code",
   "execution_count": 12,
   "metadata": {
    "id": "_FNfw1nhg-nS"
   },
   "outputs": [],
   "source": [
    "assert kadane(input) == expected_output"
   ]
  }
 ],
 "metadata": {
  "colab": {
   "authorship_tag": "ABX9TyNTZ/SNyuTDfIZter0XyGQP",
   "include_colab_link": true,
   "provenance": []
  },
  "kernelspec": {
   "display_name": "Python 3",
   "language": "python",
   "name": "python3"
  },
  "language_info": {
   "codemirror_mode": {
    "name": "ipython",
    "version": 3
   },
   "file_extension": ".py",
   "mimetype": "text/x-python",
   "name": "python",
   "nbconvert_exporter": "python",
   "pygments_lexer": "ipython3",
   "version": "3.11.5"
  }
 },
 "nbformat": 4,
 "nbformat_minor": 0
}
