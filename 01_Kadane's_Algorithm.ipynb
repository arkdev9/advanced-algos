{
  "nbformat": 4,
  "nbformat_minor": 0,
  "metadata": {
    "colab": {
      "provenance": [],
      "authorship_tag": "ABX9TyNTZ/SNyuTDfIZter0XyGQP",
      "include_colab_link": true
    },
    "kernelspec": {
      "name": "python3",
      "display_name": "Python 3"
    },
    "language_info": {
      "name": "python"
    }
  },
  "cells": [
    {
      "cell_type": "markdown",
      "metadata": {
        "id": "view-in-github",
        "colab_type": "text"
      },
      "source": [
        "<a href=\"https://colab.research.google.com/github/arkdev9/advanced-algos/blob/main/01_Kadane's_Algorithm.ipynb\" target=\"_parent\"><img src=\"https://colab.research.google.com/assets/colab-badge.svg\" alt=\"Open In Colab\"/></a>"
      ]
    },
    {
      "cell_type": "markdown",
      "source": [
        "# Kadane's Algorithm"
      ],
      "metadata": {
        "id": "xJkEZuSnTc0R"
      }
    },
    {
      "cell_type": "markdown",
      "source": [
        "**Question**\n",
        "\n",
        "Find a non-empty subarray with the largest sum"
      ],
      "metadata": {
        "id": "j9BX84ckTwzE"
      }
    },
    {
      "cell_type": "code",
      "source": [
        "input = [4, -1, 2, -7, 3, 4]\n",
        "expected_output = 7"
      ],
      "metadata": {
        "id": "zyaLn_BNT9sj"
      },
      "execution_count": 10,
      "outputs": []
    },
    {
      "cell_type": "markdown",
      "source": [
        "**Intuition**\n",
        "\n",
        "Use a sliding window to calculate sums of subarrays. You will never have to add a subarray with a negative sum, because it will never contribute to increasing the sum."
      ],
      "metadata": {
        "id": "IblTYEvseudW"
      }
    },
    {
      "cell_type": "code",
      "source": [
        "def kadane(nums):\n",
        "    max_sum = nums[0]\n",
        "    curr_sum = 0\n",
        "\n",
        "    for n in nums:\n",
        "        # Here we disregard the current window if it has a negative sum\n",
        "        curr_sum = max(curr_sum, 0)\n",
        "        curr_sum += n\n",
        "        max_sum = max(curr_sum, max_sum)\n",
        "\n",
        "    return max_sum\n"
      ],
      "metadata": {
        "id": "j9A3I7GZg5rF"
      },
      "execution_count": 4,
      "outputs": []
    },
    {
      "cell_type": "code",
      "source": [
        "assert kadane(input) == expected_output"
      ],
      "metadata": {
        "id": "_FNfw1nhg-nS"
      },
      "execution_count": 12,
      "outputs": []
    },
    {
      "cell_type": "code",
      "source": [],
      "metadata": {
        "id": "3HM2kcNph7GU"
      },
      "execution_count": null,
      "outputs": []
    }
  ]
}