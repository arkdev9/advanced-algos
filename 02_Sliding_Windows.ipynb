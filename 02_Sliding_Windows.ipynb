{
 "cells": [
  {
   "cell_type": "markdown",
   "metadata": {},
   "source": [
    "# Sliding Windows"
   ]
  },
  {
   "cell_type": "markdown",
   "metadata": {},
   "source": [
    "## Contains Duplicates II\n",
    "\n",
    "https://leetcode.com/problems/contains-duplicate-ii/"
   ]
  },
  {
   "cell_type": "code",
   "execution_count": 2,
   "metadata": {},
   "outputs": [],
   "source": [
    "from collections import defaultdict\n",
    "from typing import List\n",
    "\n",
    "def containsNearbyDuplicate(nums: List[int], k: int) -> bool:\n",
    "\tcount_map = defaultdict(int)\n",
    "\t\n",
    "\tfor num in nums[:k+1]:\n",
    "\t\tcount_map[num] += 1\n",
    "\t\tif count_map[num] > 1:\n",
    "\t\t\treturn True\n",
    "\t\n",
    "\t\n",
    "\ti = 0\n",
    "\tj = k + 1\n",
    "\twhile j < len(nums):\n",
    "\t\tcount_map[nums[i]] -= 1\n",
    "\t\tcount_map[nums[j]] += 1\n",
    "\t\tif count_map[nums[j]] > 1:\n",
    "\t\t\treturn True\n",
    "\t\ti += 1\n",
    "\t\tj += 1\n",
    "\t\t\n",
    "\treturn False"
   ]
  },
  {
   "cell_type": "code",
   "execution_count": 3,
   "metadata": {},
   "outputs": [],
   "source": [
    "assert containsNearbyDuplicate([1,2,3,1,2,3], 2) == False\n",
    "assert containsNearbyDuplicate([1,0,1,1], 1) == True\n",
    "assert containsNearbyDuplicate([1,2,3,1], 3) == True"
   ]
  },
  {
   "cell_type": "markdown",
   "metadata": {},
   "source": [
    "## Contains Duplicates III"
   ]
  },
  {
   "cell_type": "markdown",
   "metadata": {},
   "source": [
    "https://leetcode.com/problems/contains-duplicate-iii/description/"
   ]
  },
  {
   "cell_type": "markdown",
   "metadata": {},
   "source": [
    "This is a hard problem. A possible solution that I came up with works as follows:\n",
    "\n",
    "- We need two heaps, min and max\n",
    "- We need a hash map, that stores the counts of the elements in the window\n",
    "- We need a sliding window of size k\n",
    "- At each iteration, we update the counts in the hash map, if the element being removed will make the count 0, we also remove it from both heaps, update count of elements in the window, and add the new element to the heaps\n",
    "- We check if the difference between the max and min elements in the window is less than or equal to t"
   ]
  },
  {
   "cell_type": "markdown",
   "metadata": {},
   "source": [
    "Time complexity \n",
    "- Inserting and removing from the heaps is O(log(k)), we do it 4 times, k times, so O(4k log(k)), which is O(k log(k)) simplified\n",
    "- Updating the hash map is O(1)\n",
    "- Checking the difference between the max and min is O(1)\n",
    "- Sliding the window is O(n-k)\n",
    "\n",
    "Worst case time complexity is O(n log(k))\n",
    "Because constants don't matter, and this is the limiting factor (inserting and removing from the heaps)"
   ]
  },
  {
   "cell_type": "markdown",
   "metadata": {},
   "source": [
    "**EDIT**\n",
    "\n",
    "It turns out Python's heapq implementation can store duplicate values in the heap, so we can use a single heap to store the elements in the window without having to worry abou the count map. This simplifies the solution a lot."
   ]
  },
  {
   "cell_type": "code",
   "execution_count": null,
   "metadata": {},
   "outputs": [],
   "source": [
    "from typing import List\n",
    "from collections import defaultdict\n",
    "import heapq\n",
    "\n",
    "\n",
    "def containsNearbyAlmostDuplicate(nums: List[int], indexDiff: int, valueDiff: int) -> bool:\n",
    "    l, r = 0, indexDiff\n",
    "    minheap = nums[:indexDiff + 1]\n",
    "    heapq.heapify(minheap)\n",
    "    # maxheap = [-x for x in nums[:indexDiff + 1]]\n",
    "    # heapq.heapify(maxheap)\n",
    "    \n",
    "    # Check if the condition is satisfied in this initial window\n",
    "    print(minheap)\n",
    "    if abs(minheap[0] - minheap[1]) <= valueDiff:\n",
    "        return True\n",
    "    \n",
    "    # Check all other windows\n",
    "\n",
    "    i = 0\n",
    "    j = indexDiff + 1\n",
    "    while j < len(nums):\n",
    "        heapq.heappush(nums[j])\n",
    "        heapq.heappop(nums[i])\n",
    "        if abs(minheap[0] - (-minheap[0])) <= valueDiff:\n",
    "            return True\n",
    "        i += 1\n",
    "        j += 1\n",
    "\n",
    "    return False\n"
   ]
  },
  {
   "cell_type": "code",
   "execution_count": 14,
   "metadata": {},
   "outputs": [
    {
     "name": "stdout",
     "output_type": "stream",
     "text": [
      "[1, 1, 3, 2]\n",
      "[-3, -2, -1, -1]\n",
      "2\n"
     ]
    },
    {
     "data": {
      "text/plain": [
       "False"
      ]
     },
     "execution_count": 14,
     "metadata": {},
     "output_type": "execute_result"
    }
   ],
   "source": [
    "containsNearbyAlmostDuplicate([1,2,3,1], 3, 0)"
   ]
  },
  {
   "cell_type": "markdown",
   "metadata": {},
   "source": [
    "Okay so this doesn't work. Heaps cannot be used for this purpose."
   ]
  },
  {
   "cell_type": "markdown",
   "metadata": {},
   "source": [
    "The actual solution involves a binary search tree."
   ]
  },
  {
   "cell_type": "markdown",
   "metadata": {},
   "source": [
    "## 1343 Number of Sub-arrays of Size K and Average Greater than or Equal to Threshold\n",
    "\n",
    "https://leetcode.com/problems/number-of-sub-arrays-of-size-k-and-average-greater-than-or-equal-to-threshold/description/"
   ]
  },
  {
   "cell_type": "markdown",
   "metadata": {},
   "source": [
    "This is easy, just check slide the window of size `k`, and check average in each array.\n",
    "You don't have to recalculate average each time even, just have `window_total` and add subtract as you slide the window, and divide by `k` to get the window average."
   ]
  },
  {
   "cell_type": "code",
   "execution_count": null,
   "metadata": {},
   "outputs": [],
   "source": [
    "def numOfSubarrays(arr: List[int], k: int, threshold: int) -> int:\n",
    "    l, r = 0, k-1\n",
    "    total = sum(arr[:r])\n",
    "    count = 0\n",
    "    \n",
    "    while r < len(arr):\n",
    "        total += arr[r]\n",
    "        average = total / k\n",
    "        if average >= threshold:\n",
    "            count += 1\n",
    "        \n",
    "        total -= arr[l]\n",
    "        l += 1\n",
    "        r += 1\n",
    "    \n",
    "    return count\n"
   ]
  },
  {
   "cell_type": "code",
   "execution_count": 18,
   "metadata": {},
   "outputs": [
    {
     "data": {
      "text/plain": [
       "3"
      ]
     },
     "execution_count": 18,
     "metadata": {},
     "output_type": "execute_result"
    }
   ],
   "source": [
    "numOfSubarrays([2,2,2,2,5,5,5,8], 3, 4)"
   ]
  }
 ],
 "metadata": {
  "kernelspec": {
   "display_name": "Python 3",
   "language": "python",
   "name": "python3"
  },
  "language_info": {
   "codemirror_mode": {
    "name": "ipython",
    "version": 3
   },
   "file_extension": ".py",
   "mimetype": "text/x-python",
   "name": "python",
   "nbconvert_exporter": "python",
   "pygments_lexer": "ipython3",
   "version": "3.11.5"
  }
 },
 "nbformat": 4,
 "nbformat_minor": 2
}
